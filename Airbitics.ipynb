{
  "nbformat": 4,
  "nbformat_minor": 0,
  "metadata": {
    "colab": {
      "name": "Airbitics.ipynb",
      "provenance": [],
      "collapsed_sections": [],
      "authorship_tag": "ABX9TyNf0XQX4zFW2T58+zhWad3Q",
      "include_colab_link": true
    },
    "kernelspec": {
      "name": "python3",
      "display_name": "Python 3"
    }
  },
  "cells": [
    {
      "cell_type": "markdown",
      "metadata": {
        "id": "view-in-github",
        "colab_type": "text"
      },
      "source": [
        "<a href=\"https://colab.research.google.com/github/jhanvipankhania/Task_Airbitics/blob/master/Airbitics.ipynb\" target=\"_parent\"><img src=\"https://colab.research.google.com/assets/colab-badge.svg\" alt=\"Open In Colab\"/></a>"
      ]
    },
    {
      "cell_type": "markdown",
      "metadata": {
        "id": "7t2mIr_wALlE",
        "colab_type": "text"
      },
      "source": [
        "#Technical Assignment\n"
      ]
    },
    {
      "cell_type": "markdown",
      "metadata": {
        "id": "O7n86koBlJRw",
        "colab_type": "text"
      },
      "source": [
        "#**Problem 1**\n",
        "\n",
        "We wish to train a machine learning algorithm on an array of floating-point numbers in the\n",
        "interval [0.0, 1.0). The data is horribly unbalanced (not evenly distributed) and we wish to\n",
        "filter the dataset to obtain a subset containing an equal number of values from each interval\n",
        "[0, 0.2), [0.2, 0.4), ... [0.8, 1.0), throwing away as little data as possible.\n",
        "1. Write a program which reads comma-separated floating-point numbers in a single\n",
        "line from stdin and prints the filtered data to stdout in the same format.\n",
        "2. Provide one automated test case for your program.\n",
        "Trivial example:\n",
        "$ echo  0.1,0.3,0.5,0.7,0.9 | /my-program\n",
        "0.1,0.3,0.5,0.7,0.9\n",
        "$  echo  0.1,0.3,0.5,0.7,0.9,0.5 | /my-program\n",
        "0.1,0.3,0.5,0.7,0.9\n",
        "$  echo  0.3,0.5,0.7,0.9,0.5 | /my-program\n",
        "None\n",
        "$ echo 0.15,0.12,0.35,0.38,0.55,0.56,0.57,0.75,0.77, 0.9,0.94 | /my-program\n",
        "0.15,0.12,0.35,0.38,0.55,0.56,0.75,0.77,0.9,0.94"
      ]
    },
    {
      "cell_type": "markdown",
      "metadata": {
        "id": "jTgUrUWpmZ_1",
        "colab_type": "text"
      },
      "source": [
        "### 1) Write a program which reads comma-separated floating-point numbers in a  single line from stdin and prints the filtered data to stdout in the same format."
      ]
    },
    {
      "cell_type": "code",
      "metadata": {
        "id": "5YV1SAdWltTJ",
        "colab_type": "code",
        "colab": {
          "base_uri": "https://localhost:8080/",
          "height": 68
        },
        "outputId": "16376272-3df7-44a9-c9ec-c399988d02bf"
      },
      "source": [
        "def convertFloat(strin):\n",
        "\tstrin =strin\n",
        "\tres = [float(i) for i in strin.split(',')]\n",
        "\tprint(res)\n",
        "# Auto\tmated Test Case\n",
        "auto_Case = \"1.5,2.5,3.5,0.5,9.6,3.2\"\n",
        "convertFloat(auto_Case)\n",
        "\n",
        "#User input\n",
        "#strin = input(\"Enter comma seperated values: \")\n",
        "#convertFloat(strin)\n"
      ],
      "execution_count": 23,
      "outputs": [
        {
          "output_type": "stream",
          "text": [
            "Enter comma seperated values: 0.5,0.,0.6\n",
            "[0.5, 0.0, 0.6]\n",
            "[1.5, 2.5, 3.5, 0.5, 9.6, 3.2]\n"
          ],
          "name": "stdout"
        }
      ]
    },
    {
      "cell_type": "markdown",
      "metadata": {
        "id": "7-etZPEpfjwf",
        "colab_type": "text"
      },
      "source": [
        "# **Problem 2**\n",
        "Complete this function \"def numIslands(self, grid: List[List[str]]) -> int:\"to solve the below problem. \n",
        "Given a 2d grid map of '1's (land) and '0's (water), count the number of islands. An island is surrounded by water and is formed by connecting adjacent lands horizontally or vertically. You may assume all four edges of the grid are all surrounded by water.\n",
        "\n",
        "##Example 1:\n",
        "Input: grid = \n",
        "\n",
        "[[\"1\",\"1\",\"1\",\"1\",\"0\"],\n",
        "\n",
        "[\"1\",\"1\",\"0\",\"1\",\"0\"],\n",
        "\n",
        "[\"1\",\"1\",\"0\",\"0\",\"0\"],\n",
        "\n",
        "[\"0\",\"0\",\"0\",\"0\",\"0\"] ]\n",
        "\n",
        "Output: 1\n",
        "\n",
        "##Example 2:\n",
        "Input: grid =\n",
        "\n",
        "[ [\"1\",\"1\",\"0\",\"0\",\"0\"],\n",
        "\n",
        "[\"1\",\"1\",\"0\",\"0\",\"0\"],\n",
        "\n",
        "[\"0\",\"0\",\"1\",\"0\",\"0\"],\n",
        "\n",
        "[\"0\",\"0\",\"0\",\"1\",\"1\"] ]\n",
        "\n",
        "Output: 3\n"
      ]
    },
    {
      "cell_type": "code",
      "metadata": {
        "id": "L4AGtXFPe9Al",
        "colab_type": "code",
        "colab": {}
      },
      "source": [
        "def numIslands(grid):\n",
        "    def sink(i, j):\n",
        "        if 0 <= i < len(grid) and 0 <= j < len(grid[i]) and grid[i][j] == '1':\n",
        "            grid[i][j] = '0'\n",
        "            list(map(sink, (i+1, i-1, i, i), (j, j, j+1, j-1)))  # map in python3 return iterator\n",
        "            return 1\n",
        "        return 0\n",
        "    return sum(sink(i, j) for i in range(len(grid)) for j in range(len(grid[i])))"
      ],
      "execution_count": 29,
      "outputs": []
    },
    {
      "cell_type": "code",
      "metadata": {
        "id": "YA6pyJLqcoHb",
        "colab_type": "code",
        "colab": {
          "base_uri": "https://localhost:8080/",
          "height": 34
        },
        "outputId": "fe019259-b41a-481f-86e4-04968c1d6fc4"
      },
      "source": [
        "numIslands([[\"1\",\"1\",\"1\",\"1\",\"0\"],[\"1\",\"1\",\"0\",\"1\",\"0\"],[\"1\",\"1\",\"0\",\"0\",\"0\"], [\"0\",\"0\",\"0\",\"0\",\"0\"]])"
      ],
      "execution_count": 30,
      "outputs": [
        {
          "output_type": "execute_result",
          "data": {
            "text/plain": [
              "1"
            ]
          },
          "metadata": {
            "tags": []
          },
          "execution_count": 30
        }
      ]
    },
    {
      "cell_type": "code",
      "metadata": {
        "id": "S97Ic2kcodRj",
        "colab_type": "code",
        "colab": {
          "base_uri": "https://localhost:8080/",
          "height": 34
        },
        "outputId": "052d3764-d3fe-4c64-844a-c1e1640a25a7"
      },
      "source": [
        "numIslands([[\"1\",\"1\",\"0\",\"0\",\"0\"],[\"1\",\"1\",\"0\",\"0\",\"0\"],[\"0\",\"0\",\"1\",\"0\",\"0\"], [\"0\",\"0\",\"0\",\"1\",\"1\"]])"
      ],
      "execution_count": 31,
      "outputs": [
        {
          "output_type": "execute_result",
          "data": {
            "text/plain": [
              "3"
            ]
          },
          "metadata": {
            "tags": []
          },
          "execution_count": 31
        }
      ]
    },
    {
      "cell_type": "markdown",
      "metadata": {
        "id": "hbA1Y0LWoytD",
        "colab_type": "text"
      },
      "source": [
        "#**Problem 3** (Do this if you are looking for Python developer in Data role)\n",
        "This is an open-ended question but please write no more than 300 words.\n",
        "**bold text**This is an Airbnb listing. We want to predict the occupancy rate of this listing. We have a computer that will monitor this listing for next 1 year.\n",
        "- What are the data fields you'd like to collect from this listing?\n",
        "- After 1 year, how would you use the data you collect to guess the revenue made from this listing?"
      ]
    },
    {
      "cell_type": "markdown",
      "metadata": {
        "id": "J16TSn4ipYAw",
        "colab_type": "text"
      },
      "source": [
        "#**Solution**\n",
        "\n",
        "#### 1) Data Fields that could be included are:\n",
        "\n",
        "*   Location of the place\n",
        "*   Number of Amenities (What Amenities are those)\n",
        "*   Pricing per Day /Night\n",
        "*   Number of guest that can stay\n",
        "*   Speciality provided(like beach and city lights view)\n",
        "*   Reviews\n",
        "*   Response Rate\n",
        "*   Cancellation option provide\n",
        "*   Connection with hosts (marketing strategies used)\n",
        "*   Discount Provided\n",
        "*   Number of days stay allowed\n",
        "\n",
        "#### 2) After 1 year, how would you use the data you collect to guess the revenue made from this listing?\n",
        "We can use the data, above mentioned and find he relationships between the legit factors affecting the whole listing. Predictions can be made of how much more people are likely to get enaged as either a host or customer. What and how are the probable amenitites like Air Conditioning, Television, Private Entrance, Kitchen and so on happen to result in output. Using analytics tool like Tableau, Power Bi also R progamming will help us identify the unique correlations betweeen the fields and  allow us to see in depth the whole scenario. Adding to this pattern identification, overall profit and sales, trends can be observed using the tools. This basically helps to come up with strategies and tactis to by breaking down to a very particular goal. For an instance we can have a direct relation between view a particular flat or house has and its likely to been opt for. Along with that reviews totally work for people, because they talk to travellers. Along with that performing different analysis like Exploratory, Predictive, Perspective as per out target for output. \n",
        "\n",
        "\n",
        "\n",
        "\n",
        "\n",
        "\n",
        "\n",
        "\n",
        "\n",
        "\n"
      ]
    },
    {
      "cell_type": "markdown",
      "metadata": {
        "id": "RDjYpyb2-zpk",
        "colab_type": "text"
      },
      "source": [
        ""
      ]
    }
  ]
}